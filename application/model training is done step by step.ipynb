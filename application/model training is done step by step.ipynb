{
 "cells": [
  {
   "cell_type": "code",
   "execution_count": 118,
   "metadata": {
    "collapsed": true
   },
   "outputs": [],
   "source": [
    "import numpy as np\n",
    "import sklearn\n",
    "import matplotlib.pyplot as plt\n",
    "import pandas as pd\n",
    "from sklearn.model_selection import train_test_split\n",
    "from sklearn.preprocessing import LabelEncoder"
   ]
  },
  {
   "cell_type": "code",
   "execution_count": 119,
   "metadata": {},
   "outputs": [],
   "source": [
    "train = pd.read_csv('/home/tanuj/house/application/data/train.csv')\n",
    "# Isnull = train.isnull().sum() / len(train) * 100\n",
    "# Isnull = Isnull[Isnull > 0]\n",
    "# Isnull.sort_values(inplace=True, ascending=False)\n",
    "# print(Isnull)"
   ]
  },
  {
   "cell_type": "code",
   "execution_count": 120,
   "metadata": {},
   "outputs": [],
   "source": [
    "cols = ('FireplaceQu', 'BsmtQual', 'BsmtCond', 'GarageQual', 'GarageCond',\n",
    "        'ExterQual', 'ExterCond', 'HeatingQC', 'PoolQC', 'KitchenQual', 'BsmtFinType1',\n",
    "        'BsmtFinType2', 'Functional', 'Fence', 'BsmtExposure', 'GarageFinish', 'LandSlope',\n",
    "        'LotShape', 'PavedDrive', 'Street', 'Alley', 'CentralAir', 'MSSubClass', 'OverallCond',\n",
    "        'YrSold', 'MoSold', 'MSZoning', 'LandContour', 'LotConfig', 'Neighborhood',\n",
    "        'Condition1', 'Condition2', 'BldgType', 'HouseStyle', 'RoofStyle', 'RoofMatl', 'Exterior1st',\n",
    "        'Exterior2nd', 'MasVnrType', 'MasVnrArea', 'Foundation', 'GarageType', 'MiscFeature',\n",
    "        'SaleType', 'SaleCondition', 'Electrical', 'Heating', 'Utilities')\n",
    "\n",
    "for col in cols:\n",
    "    train[col] = train[col].fillna('None')\n",
    "\n",
    "train['LotFrontage'] = train.groupby(\"Neighborhood\")[\"LotFrontage\"].transform(\n",
    "    lambda x: x.fillna(x.median()))\n",
    "\n",
    "for col in ['GarageYrBlt', 'GarageArea', 'GarageCars', 'MasVnrArea']:\n",
    "    train[col] = train[col].fillna(int(0))\n",
    "\n",
    "train['Electrical'] = train['Electrical'].fillna(train['Electrical']).mode()[0]"
   ]
  },
  {
   "cell_type": "code",
   "execution_count": 121,
   "metadata": {},
   "outputs": [],
   "source": [
    "# Isnull = train.isnull().sum() / len(train) * 100\n",
    "# Isnull = Isnull[Isnull > 0]\n",
    "# Isnull.sort_values(inplace=True, ascending=False)\n",
    "# print(Isnull)\n",
    "\n",
    "for c in cols:\n",
    "    lbl = LabelEncoder()\n",
    "    lbl.fit(list(train[c].values))\n",
    "    train[c] = lbl.transform(list(train[c].values))"
   ]
  },
  {
   "cell_type": "code",
   "execution_count": 122,
   "metadata": {},
   "outputs": [],
   "source": [
    "y = train['SalePrice']\n",
    "del train['SalePrice']\n",
    "\n",
    "X = train.values\n",
    "Y = y.values\n",
    "Y = Y.reshape(Y.shape[0],1)\n",
    "max_colx = (X.max(0))\n",
    "max_colx = max_colx.reshape(1,max_colx.shape[0])\n",
    "max_colx[max_colx == 0] = 1\n",
    "X = np.divide(X,max_colx)\n",
    "df = pd.DataFrame(X)\n",
    "df.fillna(int(0))\n",
    "\n",
    "max_coly = (Y.max(0))\n",
    "max_coly = max_coly.reshape(1,max_coly.shape[0])\n",
    "max_coly[max_coly == 0] = 1\n",
    "Y = np.divide(Y,max_coly)\n",
    "\n",
    "# df = pd.DataFrame(X)\n",
    "# res = df.isnull().any().any()\n",
    "# print(res)\n",
    "\n",
    "X_train, X_test, Y_train, Y_test = train_test_split(X, Y, test_size=0.2, random_state=7)"
   ]
  },
  {
   "cell_type": "code",
   "execution_count": 123,
   "metadata": {},
   "outputs": [],
   "source": [
    "def initialize_with_zeros(dim): \n",
    "    w = np.random.rand(dim, 1)\n",
    "    b = 0\n",
    "    return w, b"
   ]
  },
  {
   "cell_type": "code",
   "execution_count": 129,
   "metadata": {},
   "outputs": [],
   "source": [
    "def propagate(w, b, X, Y):\n",
    "    m = X.shape[0]\n",
    "    A = np.matmul(X,w) + b\n",
    "    \n",
    "    cost = (1 / (2*m)) * np.sum(np.square(A-Y))\n",
    "    dw = (1 / m) * (np.dot((A - Y).T,X).T)\n",
    "    db = (1 / m) * (np.sum(A - Y))\n",
    "    grads = {\"dw\": dw,\n",
    "             \"db\": db}\n",
    "    return grads, cost"
   ]
  },
  {
   "cell_type": "code",
   "execution_count": 130,
   "metadata": {},
   "outputs": [],
   "source": [
    "def optimize(w, b, X, Y, num_iterations, learning_rate, print_cost = False):\n",
    "    costs = []\n",
    "    for i in range(num_iterations):\n",
    "        grads, cost = propagate(w, b, X, Y)\n",
    "       \n",
    "        dw = grads[\"dw\"]\n",
    "        db = grads[\"db\"]\n",
    "             \n",
    "        w = w - (learning_rate * dw)\n",
    "        b = b - (learning_rate * db)\n",
    "        \n",
    "        if i % 100 == 0:\n",
    "            costs.append(cost)\n",
    "        \n",
    "        if print_cost and i % 100 == 0:\n",
    "            print (\"Cost after iteration %i: %f\" % (i, cost))\n",
    "    params = {\"w\": w,\n",
    "              \"b\": b}\n",
    "    \n",
    "    grads = {\"dw\": dw,\n",
    "             \"db\": db}\n",
    "    \n",
    "    return params, grads, costs"
   ]
  },
  {
   "cell_type": "code",
   "execution_count": 130,
   "metadata": {},
   "outputs": [],
   "source": [
    "def predict(w, b, X):\n",
    "    w = w.reshape(X.shape[1], 1)\n",
    " \n",
    "    Y_prediction = np.matmul(X,w) + b\n",
    "     \n",
    "    return Y_prediction"
   ]
  },
  {
   "cell_type": "code",
   "execution_count": 132,
   "metadata": {},
   "outputs": [],
   "source": [
    "def model(X_train, Y_train, X_test, Y_test, num_iterations=5, learning_rate=0.05, print_cost=False):\n",
    "\n",
    "    w, b = initialize_with_zeros(X_train.shape[1])\n",
    "    parameters, grads, costs = optimize(w, b, X_train, Y_train, num_iterations, learning_rate, print_cost)\n",
    "   \n",
    "    w = parameters[\"w\"]\n",
    "    b = parameters[\"b\"]\n",
    "    \n",
    "    Y_prediction_test = predict(w, b, X_test)\n",
    "    Y_prediction_train = predict(w, b, X_train)\n",
    "\n",
    "\n",
    "    print(\"train accuracy: {} %\".format(100 - np.mean(np.abs(Y_prediction_train - Y_train)) * 100))\n",
    "    print(\"test accuracy: {} %\".format(100 - np.mean(np.abs(Y_prediction_test - Y_test)) * 100))\n",
    "\n",
    "    \n",
    "    d = {\"costs\": costs,\n",
    "         \"Y_prediction_test\": Y_prediction_test, \n",
    "         \"Y_prediction_train\": Y_prediction_train, \n",
    "         \"w\": w, \n",
    "         \"b\": b,\n",
    "         \"learning_rate\": learning_rate,\n",
    "         \"num_iterations\": num_iterations}\n",
    "    \n",
    "    return d"
   ]
  },
  {
   "cell_type": "code",
   "execution_count": 148,
   "metadata": {},
   "outputs": [
    {
     "name": "stdout",
     "output_type": "stream",
     "text": [
      "Cost after iteration 0: 153.571131\nCost after iteration 100: 0.067770\nCost after iteration 200: 0.041064\nCost after iteration 300: 0.029741\nCost after iteration 400: 0.023491\nCost after iteration 500: 0.019417\nCost after iteration 600: 0.016499\nCost after iteration 700: 0.014290\nCost after iteration 800: 0.012554\n"
     ]
    },
    {
     "name": "stdout",
     "output_type": "stream",
     "text": [
      "Cost after iteration 900: 0.011153\nCost after iteration 1000: 0.010000\nCost after iteration 1100: 0.009035\nCost after iteration 1200: 0.008217\nCost after iteration 1300: 0.007518\nCost after iteration 1400: 0.006914\nCost after iteration 1500: 0.006390\nCost after iteration 1600: 0.005932\nCost after iteration 1700: 0.005529\nCost after iteration 1800: 0.005174\nCost after iteration 1900: 0.004860\n"
     ]
    },
    {
     "name": "stdout",
     "output_type": "stream",
     "text": [
      "train accuracy: 93.49863256260427 %\ntest accuracy: 93.35787041983525 %\n"
     ]
    }
   ],
   "source": [
    "d = model(X_train, Y_train, X_test, Y_test, num_iterations = 2000, learning_rate = 0.07, print_cost = True)"
   ]
  },
  {
   "cell_type": "code",
   "execution_count": 157,
   "metadata": {},
   "outputs": [
    {
     "name": "stdout",
     "output_type": "stream",
     "text": [
      "[[109697.85769401]\n [498935.02565438]\n [213432.86728087]\n ...\n [466675.83008785]\n [284187.49975155]\n [271920.51905229]]\n"
     ]
    }
   ],
   "source": [
    "#Input any set of X to predict the Housing Price\n",
    "test = pd.read_csv('/home/tanuj/house/application/data/test.csv')\n",
    "for col in cols:\n",
    "    test[col] = test[col].fillna('None')\n",
    "\n",
    "test['LotFrontage'] = test.groupby(\"Neighborhood\")[\"LotFrontage\"].transform(\n",
    "    lambda x: x.fillna(x.median()))\n",
    "\n",
    "for col in ['GarageYrBlt', 'GarageArea', 'MasVnrArea', 'GarageCars', 'BsmtFinSF1', 'BsmtFinSF2', 'BsmtUnfSF', 'TotalBsmtSF', 'LotFrontage', 'BsmtHalfBath', 'BsmtFullBath']:\n",
    "    test[col] = test[col].fillna(int(0))\n",
    "\n",
    "test['Electrical'] = test['Electrical'].fillna(test['Electrical']).mode()[0]\n",
    "\n",
    "for c in cols:\n",
    "    lbl = LabelEncoder()\n",
    "    lbl.fit(list(test[c].values))\n",
    "    test[c] = lbl.transform(list(test[c].values))\n",
    "\n",
    "X = test.values\n",
    "X = np.divide(X,max_colx)\n",
    "\n",
    "w = d['w']\n",
    "b = d['b']\n",
    "\n",
    "Y_prediction = np.matmul(X,w) + b\n",
    "Y_prediction = Y_prediction * max_coly\n",
    "print(Y_prediction)"
   ]
  },
  {
   "cell_type": "code",
   "execution_count": null,
   "metadata": {},
   "outputs": [],
   "source": []
  }
 ],
 "metadata": {
  "kernelspec": {
   "display_name": "Python 2",
   "language": "python",
   "name": "python2"
  },
  "language_info": {
   "codemirror_mode": {
    "name": "ipython",
    "version": 2
   },
   "file_extension": ".py",
   "mimetype": "text/x-python",
   "name": "python",
   "nbconvert_exporter": "python",
   "pygments_lexer": "ipython2",
   "version": "2.7.6"
  }
 },
 "nbformat": 4,
 "nbformat_minor": 0
}
